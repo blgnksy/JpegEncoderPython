{
 "cells": [
  {
   "cell_type": "markdown",
   "metadata": {},
   "source": [
    "# <center><font color='red'>Jpeg Encoder</font></center>\n",
    "\n",
    "## <center> [Jpeg Standard](https://www.w3.org/Graphics/JPEG/itu-t81.pdf)</center>\n",
    "\n",
    "![Book](bookcover.jpg)"
   ]
  },
  {
   "cell_type": "markdown",
   "metadata": {},
   "source": [
    "## 1. Imports"
   ]
  },
  {
   "cell_type": "code",
   "execution_count": 1,
   "metadata": {},
   "outputs": [],
   "source": [
    "import math\n",
    "import matplotlib.pyplot as plt\n",
    "%matplotlib inline\n",
    "import numpy as np\n",
    "from scipy import misc\n",
    "from scipy.fftpack import dct\n",
    "from itertools import *\n",
    "import pandas as pd\n",
    "import binascii"
   ]
  },
  {
   "cell_type": "code",
   "execution_count": 2,
   "metadata": {},
   "outputs": [],
   "source": [
    "huff_t1_df = pd.read_csv('./huff_t1.csv')\n",
    "huff_t3_df = pd.read_csv('./huff_t3.csv')"
   ]
  },
  {
   "attachments": {
    "image.png": {
     "image/png": "[encoded data removed]"
    }
   },
   "cell_type": "markdown",
   "metadata": {},
   "source": [
    "## 2. Reading and Converting RGB to YUV Color Space (Gray Channel)\n",
    "\n",
    "### Jpeg Standard RGB2YUV\n",
    "![image.png](attachment:image.png)\n",
    "\n",
    "### After convertion all pixels are zero shifted. (Pixel values in range -128...128) Annex-A\n",
    "A.3.1 Level shift\n",
    "Before a non-differential frame encoding process computes the FDCT for a block of source image samples, the samples\n",
    "shall be level shifted to a signed representation by subtracting 2P – 1, where P is the precision parameter specified in B.2.2.\n",
    "Thus, when P = 8, the level shift is by 128; when P = 12, the level shift is by 2048."
   ]
  },
  {
   "cell_type": "code",
   "execution_count": 3,
   "metadata": {},
   "outputs": [],
   "source": [
    "def rgb2y(filename):\n",
    "    \"\"\"Returns Y component of an image\n",
    "\n",
    "    Keyword arguments:\n",
    "    filename -- image filename\n",
    "    \"\"\"\n",
    "    _img_rgb = misc.imread(filename)\n",
    "    _width, _height, _ = _img_rgb.shape\n",
    "    _img_y = np.empty((_width, _height), dtype=np.float)\n",
    "    _img_y[:, :] = (0.299 * _img_rgb[:, :, 0] + 0.587 * _img_rgb[:, :, 1] + 0.114 * _img_rgb[:, :,\n",
    "                                                                                    2]) - 128.0  # Zero shifting\n",
    "    return _img_y, _width, _height"
   ]
  },
  {
   "cell_type": "code",
   "execution_count": 4,
   "metadata": {},
   "outputs": [
    {
     "data": {
      "text/plain": [
       "<matplotlib.image.AxesImage at 0x7ff4db441350>"
      ]
     },
     "execution_count": 4,
     "metadata": {},
     "output_type": "execute_result"
    },
    {
     "data": {
      "image/png": "[encoded data removed]",
      "text/plain": [
       "<matplotlib.figure.Figure at 0x7ff5042fc310>"
      ]
     },
     "metadata": {},
     "output_type": "display_data"
    }
   ],
   "source": [
    "img_y, w, h = rgb2y(filename='./chess.bmp')\n",
    "\n",
    "plt.imshow(img_y, cmap='gray')"
   ]
  },
  {
   "cell_type": "markdown",
   "metadata": {},
   "source": [
    "## 3. Dividing Image to 8x8 Blocks and Applying DCT"
   ]
  },
  {
   "cell_type": "code",
   "execution_count": 5,
   "metadata": {},
   "outputs": [],
   "source": [
    "def image2chunks2dct(image):\n",
    "    \"\"\"Returns 8X8 DCT applied blocks of an image\n",
    "\n",
    "    Keyword arguments:\n",
    "    image -- image to be divided into blocks\n",
    "    \"\"\"\n",
    "    _dct_chunks = []\n",
    "    _w, _h = image.shape\n",
    "    l = _w * _h * 8 * 8\n",
    "    for i in range(0, _w / 8):\n",
    "        for j in range(0, _h / 8):\n",
    "            _dct_chunks.append(dct(image[i * 8: i * 8 + 8, j * 8: j * 8 + 8], 2))\n",
    "    return _dct_chunks"
   ]
  },
  {
   "cell_type": "code",
   "execution_count": 6,
   "metadata": {},
   "outputs": [
    {
     "data": {
      "text/plain": [
       "array([[ 2032.,     0.,     0.,     0.,     0.,     0.,     0.,     0.],\n",
       "       [ 2032.,     0.,     0.,     0.,     0.,     0.,     0.,     0.],\n",
       "       [ 2032.,     0.,     0.,     0.,     0.,     0.,     0.,     0.],\n",
       "       [ 2032.,     0.,     0.,     0.,     0.,     0.,     0.,     0.],\n",
       "       [ 2032.,     0.,     0.,     0.,     0.,     0.,     0.,     0.],\n",
       "       [ 2032.,     0.,     0.,     0.,     0.,     0.,     0.,     0.],\n",
       "       [ 2032.,     0.,     0.,     0.,     0.,     0.,     0.,     0.],\n",
       "       [ 2032.,     0.,     0.,     0.,     0.,     0.,     0.,     0.]])"
      ]
     },
     "execution_count": 6,
     "metadata": {},
     "output_type": "execute_result"
    }
   ],
   "source": [
    "dct_chunks = image2chunks2dct(image=img_y)\n",
    "dct_chunks[0]"
   ]
  },
  {
   "cell_type": "code",
   "execution_count": 7,
   "metadata": {},
   "outputs": [
    {
     "data": {
      "text/plain": [
       "array([[ 127.,  127.,  127.,  127.,  127.,  127.,  127.,  127.],\n",
       "       [ 127.,  127.,  127.,  127.,  127.,  127.,  127.,  127.],\n",
       "       [ 127.,  127.,  127.,  127.,  127.,  127.,  127.,  127.],\n",
       "       [ 127.,  127.,  127.,  127.,  127.,  127.,  127.,  127.],\n",
       "       [ 127.,  127.,  127.,  127.,  127.,  127.,  127.,  127.],\n",
       "       [ 127.,  127.,  127.,  127.,  127.,  127.,  127.,  127.],\n",
       "       [ 127.,  127.,  127.,  127.,  127.,  127.,  127.,  127.],\n",
       "       [ 127.,  127.,  127.,  127.,  127.,  127.,  127.,  127.]])"
      ]
     },
     "execution_count": 7,
     "metadata": {},
     "output_type": "execute_result"
    }
   ],
   "source": [
    "img_y[0:8,0:8]"
   ]
  },
  {
   "attachments": {
    "image.png": {
     "image/png": "[encoded data removed]"
    }
   },
   "cell_type": "markdown",
   "metadata": {},
   "source": [
    "## 4. Quantization\n",
    "### Jpeg Standard Annex-K is defining the standard quantization tables for both Luminance and Chrominance Channels:\n",
    "\n",
    "![image.png](attachment:image.png)"
   ]
  },
  {
   "cell_type": "markdown",
   "metadata": {},
   "source": [
    "### Loading Quantization Matrices.\n",
    "\n",
    "[Quantization Tables](https://www.impulseadventure.com/photo/jpeg-quantization.html)"
   ]
  },
  {
   "cell_type": "code",
   "execution_count": 8,
   "metadata": {},
   "outputs": [
    {
     "data": {
      "text/plain": [
       "[[10, 7, 6, 10, 14, 24, 31, 37],\n",
       " [7, 7, 8, 11, 16, 35, 36, 33],\n",
       " [8, 8, 10, 14, 24, 34, 41, 34],\n",
       " [8, 10, 13, 17, 31, 52, 48, 37],\n",
       " [11, 13, 22, 34, 41, 65, 62, 46],\n",
       " [14, 21, 33, 38, 49, 62, 68, 55],\n",
       " [29, 38, 47, 52, 62, 73, 72, 61],\n",
       " [43, 55, 57, 59, 67, 60, 62, 59]]"
      ]
     },
     "execution_count": 8,
     "metadata": {},
     "output_type": "execute_result"
    }
   ],
   "source": [
    "import quantization_matrix as qm\n",
    "qm.q_IrfanV_070"
   ]
  },
  {
   "cell_type": "code",
   "execution_count": 9,
   "metadata": {},
   "outputs": [],
   "source": [
    "def huff_q_table():\n",
    "    \"\"\"Returns Huffman coded quantization table\"\"\"\n",
    "    huff_q=\"\"\n",
    "    for i in range(8):\n",
    "        for j in range(8):\n",
    "            huff_q+=huffmann_T1(qm.q_IrfanV_040[i][j])[2:]\n",
    "            huff_q+=huffmann_T2(qm.q_IrfanV_040[i][j])[2:]\n",
    "    return huff_q"
   ]
  },
  {
   "cell_type": "code",
   "execution_count": 10,
   "metadata": {},
   "outputs": [],
   "source": [
    "def quantize(dct_chunks):\n",
    "    \"\"\"Returns quantized DCT blocks\n",
    "\n",
    "    Keyword arguments:\n",
    "    dct_chunks -- DCT blocks\n",
    "    \"\"\"\n",
    "    _quant_chunks = []\n",
    "    for dct_chunk in dct_chunks:\n",
    "        temp = np.round(dct_chunk / qm.q_IrfanV_040)\n",
    "        _quant_chunks.append(temp)\n",
    "    return _quant_chunks"
   ]
  },
  {
   "cell_type": "code",
   "execution_count": 11,
   "metadata": {},
   "outputs": [
    {
     "data": {
      "text/plain": [
       "array([[ 102.,    0.,    0.,    0.,    0.,    0.,    0.,    0.],\n",
       "       [ 135.,    0.,    0.,    0.,    0.,    0.,    0.,    0.],\n",
       "       [ 113.,    0.,    0.,    0.,    0.,    0.,    0.,    0.],\n",
       "       [ 113.,    0.,    0.,    0.,    0.,    0.,    0.,    0.],\n",
       "       [  88.,    0.,    0.,    0.,    0.,    0.,    0.,    0.],\n",
       "       [  68.,    0.,    0.,    0.,    0.,    0.,    0.,    0.],\n",
       "       [  33.,    0.,    0.,    0.,    0.,    0.,    0.,    0.],\n",
       "       [  23.,    0.,    0.,    0.,    0.,    0.,    0.,    0.]])"
      ]
     },
     "execution_count": 11,
     "metadata": {},
     "output_type": "execute_result"
    }
   ],
   "source": [
    "q_chunks = quantize(dct_chunks=dct_chunks)\n",
    "q_chunks[0]"
   ]
  },
  {
   "attachments": {
    "image.png": {
     "image/png": "[encoded data removed]"
    }
   },
   "cell_type": "markdown",
   "metadata": {},
   "source": [
    "## 5. Zig-zag Scan Order\n",
    "\n",
    "### Annex-A\n",
    "\n",
    "![image.png](attachment:image.png)"
   ]
  },
  {
   "cell_type": "code",
   "execution_count": 12,
   "metadata": {},
   "outputs": [],
   "source": [
    "zz_order_list = [(0, 0), (0, 1), (1, 0), (2, 0), (1, 1), (0, 2), (0, 3), (1, 2), (2, 1), (3, 0), (4, 0), (3, 1), (2, 2),\n",
    "                 (1, 3), (0, 4), (0, 5), (1, 4), (2, 3), (3, 2), (4, 1), (5, 0), (6, 0), (5, 1), (4, 2), (3, 3), (2, 4),\n",
    "                 (1, 5), (0, 6), (0, 7), (1, 6), (2, 5), (3, 4), (4, 3), (5, 2), (6, 1), (7, 0), (7, 1), (6, 2), (5, 3),\n",
    "                 (4, 4), (3, 5), (2, 6), (1, 7), (2, 7), (3, 6), (4, 5), (5, 4), (6, 3), (7, 2), (7, 3), (6, 4), (5, 5),\n",
    "                 (4, 6), (3, 7), (4, 7), (5, 6), (6, 5), (7, 4), (7, 5), (6, 6), (5, 7), (6, 7), (7, 6), (7, 7)]"
   ]
  },
  {
   "cell_type": "code",
   "execution_count": 13,
   "metadata": {},
   "outputs": [],
   "source": [
    "def order_chunk(q_chunk):\n",
    "    \"\"\"Returns Zig-Zag scanned quantized blocks\n",
    "\n",
    "    Keyword arguments:\n",
    "    q_chunk -- Quantized block\n",
    "    \"\"\"\n",
    "    _ordered_chunk = []\n",
    "    for i in range(len(zz_order_list)):\n",
    "        _ordered_chunk.append(q_chunk[zz_order_list[i]])  # for just one chunk\n",
    "    return _ordered_chunk"
   ]
  },
  {
   "cell_type": "markdown",
   "metadata": {},
   "source": [
    "## 6. Run Lenght Code"
   ]
  },
  {
   "cell_type": "code",
   "execution_count": 14,
   "metadata": {},
   "outputs": [],
   "source": [
    "# I used the same code from https://www.techrepublic.com/article/run-length-encoding-in-python\n",
    "# for this function\n",
    "def run_length_code(ordered_chunk):\n",
    "    \"\"\"Returns Run Lenght Coded blocks\n",
    "\n",
    "    Keyword arguments:\n",
    "    ordered_chunk -- Zig-Zag scanned blocks\n",
    "    \"\"\"\n",
    "    rlc = [(len(list(group)), name) for name, group in groupby(ordered_chunk)]\n",
    "    return rlc"
   ]
  },
  {
   "cell_type": "markdown",
   "metadata": {},
   "source": [
    "## 7. Huffman Coding\n",
    "### Coding DC Coefficients"
   ]
  },
  {
   "cell_type": "markdown",
   "metadata": {},
   "source": [
    "![DC Huffman](figures/Slide1.jpg)"
   ]
  },
  {
   "cell_type": "markdown",
   "metadata": {},
   "source": [
    "### AC Coeffiencients"
   ]
  },
  {
   "cell_type": "markdown",
   "metadata": {},
   "source": [
    "![AC Huffman](figures/Slide4.jpg)"
   ]
  },
  {
   "cell_type": "markdown",
   "metadata": {},
   "source": [
    "The maximum length of run is limited to 15. Encoding of runs greater than 15\n",
    "is done by a special symbol (15, 0), which is a run length of 15 zero coefficients\n",
    "followed by a coefficient of zero amplitude. Hence, it can be interpreted as the\n",
    "extension symbol with 16 zero coefficients. There can be up to three consecutive\n",
    "(15, 0) symbols before the terminating symbol-1 followed by a single symbol-2.\n",
    "For example, a (RUN  34, CAT  5) pair would result in three symbols a, b and c,\n",
    "with a  (15, 0), b  (15, 0) and c  (2, 5).\n",
    "An EOB is designated to indicate that the rest of the coefficients of the block in\n",
    "the zigzag scanning order are quantised to zero. The EOB symbol is represented by\n",
    "(RUN  0, CAT  0)"
   ]
  },
  {
   "cell_type": "code",
   "execution_count": 15,
   "metadata": {},
   "outputs": [],
   "source": [
    "previous_dc = 0"
   ]
  },
  {
   "cell_type": "code",
   "execution_count": 16,
   "metadata": {},
   "outputs": [],
   "source": [
    "def binbits(x, n):\n",
    "    \"\"\"Return binary representation of x with at least n bits\"\"\"\n",
    "    bits = bin(x).split('b')[1]\n",
    "\n",
    "    if len(bits) < n:\n",
    "        return '0b' + '0' * (n - len(bits)) + bits"
   ]
  },
  {
   "cell_type": "code",
   "execution_count": 17,
   "metadata": {},
   "outputs": [],
   "source": [
    "def huffmann_T1(amplitude):\n",
    "    \"\"\"Returns size for Huffman coding an amplitude\n",
    "\n",
    "    Keyword arguments:\n",
    "    amplitude -- Amplitude\n",
    "    \"\"\"\n",
    "    size = int(math.log(abs(amplitude), 2)) + 1\n",
    "    return huff_t1_df['Code'][size]"
   ]
  },
  {
   "cell_type": "code",
   "execution_count": 18,
   "metadata": {},
   "outputs": [],
   "source": [
    "def huffmann_T2(amplitude):\n",
    "    \"\"\"Returns Huffman code for an DC amplitude\n",
    "\n",
    "    Keyword arguments:\n",
    "    amplitude -- DC Amplitude\n",
    "    \"\"\"\n",
    "    size = int(math.log(abs(amplitude), 2)) + 1\n",
    "    code = None\n",
    "    if size == 0:\n",
    "        code = None\n",
    "    else:\n",
    "        if amplitude > 0:\n",
    "            to_code = pow(2, size - 1)\n",
    "            code = bin((int(amplitude) - int(to_code)) | (1 << (size - 1)))\n",
    "        else:\n",
    "            to_code = pow(2, size) - 1\n",
    "            code = binbits((to_code + amplitude), size)\n",
    "    return code"
   ]
  },
  {
   "cell_type": "code",
   "execution_count": 19,
   "metadata": {},
   "outputs": [],
   "source": [
    "def huffmann_T3(run,amplitude):\n",
    "    \"\"\"Returns Huffman code for an AC amplitude\n",
    "\n",
    "    Keyword arguments:\n",
    "    run       -- Run \n",
    "    amplitude -- AC Amplitude\n",
    "    \"\"\"\n",
    "    size = int(math.log(abs(amplitude), 2)) + 1\n",
    "    code = huff_t3_df['Code'][(huff_t3_df.Run== run) & (huff_t3_df.Size== size)]\n",
    "    code = code.get_values()[0]\n",
    "    return code"
   ]
  },
  {
   "cell_type": "code",
   "execution_count": 20,
   "metadata": {},
   "outputs": [],
   "source": [
    "def huffman(rlc, p):\n",
    "    \"\"\"Returns Huffman coded bit array\n",
    "\n",
    "    Keyword arguments:\n",
    "    rlc -- Run Lenght Coded Coefficients\n",
    "    p   -- Previous DC Coefficient\n",
    "    \"\"\"\n",
    "    ba_block=\"\"\n",
    "    dc_s = None\n",
    "    dc_c = None\n",
    "    add_run = 0\n",
    "    for i in range(len(rlc)):\n",
    "        if i==0:\n",
    "            if (rlc[i][1]-p)>0:\n",
    "                dc_s = huffmann_T1((rlc[i][1]-p))\n",
    "                dc_c = huffmann_T2((rlc[i][1]-p))\n",
    "            p = rlc[i][1]\n",
    "            if dc_c != None:\n",
    "                ba_block += dc_s[2:]\n",
    "                ba_block += dc_c[2:]\n",
    "        if i>0:\n",
    "            if rlc[i][1] == 0:\n",
    "                add_run = rlc[i][0]\n",
    "            else:\n",
    "                if (rlc[i][0]+add_run)<16:\n",
    "                    ac_h=huffmann_T3((rlc[i][0]+add_run),rlc[i][1])\n",
    "                elif (rlc[i][0]+add_run)<31:\n",
    "                    ac_h=huffmann_T3(1,rlc[i][1])\n",
    "                elif (rlc[i][0]+add_run)<46:\n",
    "                    ac_h=huffmann_T3(2,rlc[i][1])\n",
    "                ba_block += ac_h[2:]\n",
    "    eob = huff_t3_df['Code'][(huff_t3_df.Run== 0) & (huff_t3_df.Size== 0)]\n",
    "    eob = eob.get_values()[0]\n",
    "    ba_block += eob[2:]\n",
    "    return ba_block, p"
   ]
  },
  {
   "cell_type": "code",
   "execution_count": 21,
   "metadata": {},
   "outputs": [
    {
     "name": "stdout",
     "output_type": "stream",
     "text": [
      "Zig-Zag Scanned Block\n",
      "[102.0, 0.0, 135.0, 113.0, 0.0, 0.0, 0.0, 0.0, 0.0, 113.0, 88.0, 0.0, 0.0, 0.0, 0.0, 0.0, 0.0, 0.0, 0.0, 0.0, 68.0, 33.0, 0.0, 0.0, 0.0, 0.0, 0.0, 0.0, 0.0, 0.0, 0.0, 0.0, 0.0, 0.0, 0.0, 23.0, 0.0, 0.0, 0.0, 0.0, 0.0, 0.0, 0.0, 0.0, 0.0, 0.0, 0.0, 0.0, 0.0, 0.0, 0.0, 0.0, 0.0, 0.0, 0.0, 0.0, 0.0, 0.0, 0.0, 0.0, 0.0, 0.0, 0.0, 0.0]\n",
      "Run-Length Coded Block\n",
      "[(1, 102.0), (1, 0.0), (1, 135.0), (1, 113.0), (5, 0.0), (1, 113.0), (1, 88.0), (9, 0.0), (1, 68.0), (1, 33.0), (13, 0.0), (1, 23.0), (28, 0.0)]\n",
      "Huffman Coding Block\n",
      "11110110011011111111100011001111111110001011111111111010101011111111101010101111111111001100111111111100101111111111111011111010\n"
     ]
    }
   ],
   "source": [
    "what_to_print=0\n",
    "block_coded = \"\"\n",
    "for q_chunk in q_chunks:\n",
    "    ordered_chunk=order_chunk(q_chunk=q_chunk)\n",
    "    rlc=run_length_code(ordered_chunk=ordered_chunk)\n",
    "    huff_block, p =huffman(rlc,previous_dc)\n",
    "    previous_dc = p\n",
    "    if what_to_print==0:\n",
    "        print(\"Zig-Zag Scanned Block\")\n",
    "        print(ordered_chunk)\n",
    "        print(\"Run-Length Coded Block\")\n",
    "        print(rlc)\n",
    "        print(\"Huffman Coding Block\")\n",
    "        print(huff_block)\n",
    "    what_to_print+=1\n",
    "    block_coded += huff_block"
   ]
  },
  {
   "cell_type": "code",
   "execution_count": 22,
   "metadata": {},
   "outputs": [],
   "source": [
    "def huff_h_table():\n",
    "    \"\"\"Returns Huffman coded Huffman table\"\"\"\n",
    "    huff_h='00'\n",
    "    for i in range(12):\n",
    "        huff_h+=huffmann_T1(i+1)[2:]\n",
    "        huff_h+=huffmann_T2(i+1)[2:]\n",
    "    return huff_h"
   ]
  },
  {
   "cell_type": "markdown",
   "metadata": {},
   "source": [
    "## 8. Write to A File\n",
    "\n",
    "### [Markers](http://vip.sugovica.hu/Sardi/kepnezo/JPEG%20File%20Layout%20and%20Format.htm)\n"
   ]
  },
  {
   "cell_type": "code",
   "execution_count": 23,
   "metadata": {},
   "outputs": [],
   "source": [
    "#Start of Image\n",
    "SOI= b'FFD8'\n",
    "\n",
    "#For JFIF File Format\n",
    "JFIFAPP0 = b'FFE0'\n",
    "JFIFLENGHTOFSEGMENT = b'0010'\n",
    "JFIFIDENTIFIER=b'4A46494600'\n",
    "JFIFVERSION=b'0102'\n",
    "JFIFUNITS= b'00'\n",
    "JFIFXDENSITY=b'0048'\n",
    "JFIFYDENSITY=b'0048'\n",
    "JFIFXTHUMBNAIL=b'00'\n",
    "JFIFYTHUMBNAIL=b'00'\n",
    "\n",
    "#Start of Frame\n",
    "SOF0=b'FFC0'\n",
    "SOF0LENGHT=b'0D'\n",
    "DATAPRECISION=b'08'\n",
    "WIDTH=b'0200'\n",
    "HEIGHT=b'0200'\n",
    "NCOMPONENTS=b'01'\n",
    "SOFADD=b'010100'\n",
    "\n",
    "#Define Huffman Table\n",
    "HTABLE=b'FFC4'\n",
    "HLENGTH=b'0243'\n",
    "HIDENTITY=b'00'\n",
    "huff_h=huff_h_table()\n",
    "\n",
    "#Define Quantization Table\n",
    "QTABLE=b'FFDB'\n",
    "QLENGTH=b'0243'\n",
    "QIDENTITY=b'00'\n",
    "huff_q=huff_q_table()\n",
    "\n",
    "#Start of Scan\n",
    "SOS = b'FFDA'\n",
    "SOSLENGHT=b'0008'\n",
    "SOSADD=b'0100'\n",
    "SOSADDMORE=b'000000'\n",
    "\n",
    "#End of Image\n",
    "EOI = b'FFD9'\n",
    "\n",
    "binary_string =  binascii.unhexlify(SOI)\n",
    "\n",
    "binary_string += binascii.unhexlify(JFIFAPP0)\n",
    "binary_string += binascii.unhexlify(JFIFLENGHTOFSEGMENT)\n",
    "binary_string += binascii.unhexlify(JFIFIDENTIFIER)\n",
    "binary_string += binascii.unhexlify(JFIFVERSION)\n",
    "binary_string += binascii.unhexlify(JFIFUNITS)\n",
    "binary_string += binascii.unhexlify(JFIFXDENSITY)\n",
    "binary_string += binascii.unhexlify(JFIFYDENSITY)\n",
    "binary_string += binascii.unhexlify(JFIFXTHUMBNAIL)\n",
    "binary_string += binascii.unhexlify(JFIFYTHUMBNAIL)\n",
    "\n",
    "binary_string += binascii.unhexlify(SOF0)\n",
    "binary_string += binascii.unhexlify(SOF0LENGHT)\n",
    "binary_string += binascii.unhexlify(DATAPRECISION)\n",
    "binary_string += binascii.unhexlify(HEIGHT)\n",
    "binary_string += binascii.unhexlify(WIDTH)\n",
    "binary_string += binascii.unhexlify(NCOMPONENTS)\n",
    "\n",
    "binary_string += binascii.unhexlify(HTABLE)\n",
    "binary_string += binascii.unhexlify(HLENGTH)\n",
    "binary_string += binascii.unhexlify(HIDENTITY)\n",
    "binary_string += huff_h\n",
    "\n",
    "binary_string += binascii.unhexlify(QTABLE)\n",
    "binary_string += binascii.unhexlify(QLENGTH)\n",
    "binary_string += binascii.unhexlify(QIDENTITY)\n",
    "binary_string += huff_q\n",
    "\n",
    "binary_string += binascii.unhexlify(SOS)\n",
    "binary_string += binascii.unhexlify(SOSLENGHT)\n",
    "binary_string += binascii.unhexlify(NCOMPONENTS)\n",
    "binary_string += binascii.unhexlify(SOSADD)\n",
    "binary_string += binascii.unhexlify(SOSADDMORE)\n",
    "binary_string += block_coded\n",
    "\n",
    "binary_string += binascii.unhexlify(EOI)\n"
   ]
  },
  {
   "cell_type": "code",
   "execution_count": 24,
   "metadata": {},
   "outputs": [],
   "source": [
    "with open(\"output.jpg\", \"wb\") as outfile:\n",
    "    outfile.write(binary_string)\n",
    "    outfile.close()"
   ]
  },
  {
   "cell_type": "code",
   "execution_count": 26,
   "metadata": {},
   "outputs": [
    {
     "ename": "IOError",
     "evalue": "cannot identify image file",
     "output_type": "error",
     "traceback": [
      "\u001b[0;31m---------------------------------------------------------------------------\u001b[0m",
      "\u001b[0;31mIOError\u001b[0m                                   Traceback (most recent call last)",
      "\u001b[0;32m<ipython-input-26-1787115e2f6c>\u001b[0m in \u001b[0;36m<module>\u001b[0;34m()\u001b[0m\n\u001b[0;32m----> 1\u001b[0;31m \u001b[0mout\u001b[0m\u001b[0;34m=\u001b[0m\u001b[0mmisc\u001b[0m\u001b[0;34m.\u001b[0m\u001b[0mimread\u001b[0m\u001b[0;34m(\u001b[0m\u001b[0;34m\"output.jpg\"\u001b[0m\u001b[0;34m)\u001b[0m\u001b[0;34m\u001b[0m\u001b[0m\n\u001b[0m",
      "\u001b[0;32m/usr/lib/python2.7/dist-packages/scipy/misc/pilutil.pyc\u001b[0m in \u001b[0;36mimread\u001b[0;34m(name, flatten)\u001b[0m\n\u001b[1;32m    124\u001b[0m     \"\"\"\n\u001b[1;32m    125\u001b[0m \u001b[0;34m\u001b[0m\u001b[0m\n\u001b[0;32m--> 126\u001b[0;31m     \u001b[0mim\u001b[0m \u001b[0;34m=\u001b[0m \u001b[0mImage\u001b[0m\u001b[0;34m.\u001b[0m\u001b[0mopen\u001b[0m\u001b[0;34m(\u001b[0m\u001b[0mname\u001b[0m\u001b[0;34m)\u001b[0m\u001b[0;34m\u001b[0m\u001b[0m\n\u001b[0m\u001b[1;32m    127\u001b[0m     \u001b[0;32mreturn\u001b[0m \u001b[0mfromimage\u001b[0m\u001b[0;34m(\u001b[0m\u001b[0mim\u001b[0m\u001b[0;34m,\u001b[0m\u001b[0mflatten\u001b[0m\u001b[0;34m=\u001b[0m\u001b[0mflatten\u001b[0m\u001b[0;34m)\u001b[0m\u001b[0;34m\u001b[0m\u001b[0m\n\u001b[1;32m    128\u001b[0m \u001b[0;34m\u001b[0m\u001b[0m\n",
      "\u001b[0;32m/usr/lib/python2.7/dist-packages/PIL/Image.pyc\u001b[0m in \u001b[0;36mopen\u001b[0;34m(fp, mode)\u001b[0m\n\u001b[1;32m   2026\u001b[0m                 \u001b[0;32mpass\u001b[0m\u001b[0;34m\u001b[0m\u001b[0m\n\u001b[1;32m   2027\u001b[0m \u001b[0;34m\u001b[0m\u001b[0m\n\u001b[0;32m-> 2028\u001b[0;31m     \u001b[0;32mraise\u001b[0m \u001b[0mIOError\u001b[0m\u001b[0;34m(\u001b[0m\u001b[0;34m\"cannot identify image file\"\u001b[0m\u001b[0;34m)\u001b[0m\u001b[0;34m\u001b[0m\u001b[0m\n\u001b[0m\u001b[1;32m   2029\u001b[0m \u001b[0;34m\u001b[0m\u001b[0m\n\u001b[1;32m   2030\u001b[0m \u001b[0;31m#\u001b[0m\u001b[0;34m\u001b[0m\u001b[0;34m\u001b[0m\u001b[0m\n",
      "\u001b[0;31mIOError\u001b[0m: cannot identify image file"
     ]
    }
   ],
   "source": [
    "out=misc.imread(\"output.jpg\")"
   ]
  },
  {
   "cell_type": "markdown",
   "metadata": {},
   "source": [
    "# [Github Repo: https://github.com/blgnksy/JpegEncoderPython](https://github.com/blgnksy/JpegEncoderPython)"
   ]
  },
  {
   "cell_type": "code",
   "execution_count": null,
   "metadata": {},
   "outputs": [],
   "source": []
  }
 ],
 "metadata": {
  "kernelspec": {
   "display_name": "Python 2",
   "language": "python",
   "name": "python2"
  },
  "language_info": {
   "codemirror_mode": {
    "name": "ipython",
    "version": 2
   },
   "file_extension": ".py",
   "mimetype": "text/x-python",
   "name": "python",
   "nbconvert_exporter": "python",
   "pygments_lexer": "ipython2",
   "version": "2.7.6"
  }
 },
 "nbformat": 4,
 "nbformat_minor": 2
}

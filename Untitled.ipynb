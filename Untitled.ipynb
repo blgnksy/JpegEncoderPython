{
 "cells": [
  {
   "cell_type": "code",
   "execution_count": 1,
   "metadata": {},
   "outputs": [],
   "source": [
    "import math\n",
    "import pandas as pd\n",
    "\n",
    "huff_t1_df = pd.read_csv('./huff_t1.csv')\n",
    "huff_t3_df = pd.read_csv('./huff_t3.csv')\n",
    "\n",
    "def huffmann_T2(amplitude):\n",
    "    size = int(math.log(abs(amplitude), 2)) + 1\n",
    "    print(size)\n",
    "    code = None\n",
    "    if size == 0:\n",
    "        code = None\n",
    "    else:\n",
    "        if amplitude > 0:\n",
    "            to_code = pow(2, size - 1)\n",
    "            code = bin((amplitude - to_code) | (1 << (size - 1)))\n",
    "        else:\n",
    "            to_code = pow(2, size) - 1\n",
    "            code = binbits((to_code + amplitude), size)\n",
    "    return code\n",
    "\n",
    "def huffmann_T1(amplitude):\n",
    "    size = int(math.log(abs(amplitude), 2)) + 1\n",
    "    return huff_t1_df['Code'][size]\n",
    "\n",
    "def huffmann_T3(run,amplitude):\n",
    "    size = int(math.log(abs(amplitude), 2)) + 1\n",
    "    print(size)\n",
    "    code = huff_t3_df['Code'][(huff_t3_df.Run== run) & (huff_t3_df.Size== size)]\n",
    "    code = code.get_values()[0]\n",
    "    return code"
   ]
  },
  {
   "cell_type": "code",
   "execution_count": null,
   "metadata": {},
   "outputs": [],
   "source": [
    "c=huffmann_T2(102)"
   ]
  },
  {
   "cell_type": "code",
   "execution_count": null,
   "metadata": {},
   "outputs": [],
   "source": [
    "c"
   ]
  },
  {
   "cell_type": "code",
   "execution_count": null,
   "metadata": {},
   "outputs": [],
   "source": [
    "s=huffmann_T1(135)"
   ]
  },
  {
   "cell_type": "code",
   "execution_count": null,
   "metadata": {},
   "outputs": [],
   "source": [
    "s"
   ]
  },
  {
   "cell_type": "code",
   "execution_count": 2,
   "metadata": {},
   "outputs": [],
   "source": [
    "b=[102.0, 0.0, 135.0, 113.0, 0.0, 0.0, 0.0, 0.0, 0.0, 113.0, 88.0, 0.0, 0.0, 0.0, 0.0, 0.0, 0.0, 0.0, 0.0, 0.0, 68.0, 33.0, 0.0, 0.0, 0.0, 0.0, 0.0, 0.0, 0.0, 0.0, 0.0, 0.0, 0.0, 0.0, 0.0, 23.0, 0.0, 0.0, 0.0, 0.0, 0.0, 0.0, 0.0, 0.0, 0.0, 0.0, 0.0, 0.0, 0.0, 0.0, 0.0, 0.0, 0.0, 0.0, 0.0, 0.0, 0.0, 0.0, 0.0, 0.0, 0.0, 0.0, 0.0, 0.0]"
   ]
  },
  {
   "cell_type": "code",
   "execution_count": 3,
   "metadata": {},
   "outputs": [
    {
     "data": {
      "text/plain": [
       "[102.0,\n",
       " 0.0,\n",
       " 135.0,\n",
       " 113.0,\n",
       " 0.0,\n",
       " 0.0,\n",
       " 0.0,\n",
       " 0.0,\n",
       " 0.0,\n",
       " 113.0,\n",
       " 88.0,\n",
       " 0.0,\n",
       " 0.0,\n",
       " 0.0,\n",
       " 0.0,\n",
       " 0.0,\n",
       " 0.0,\n",
       " 0.0,\n",
       " 0.0,\n",
       " 0.0,\n",
       " 68.0,\n",
       " 33.0,\n",
       " 0.0,\n",
       " 0.0,\n",
       " 0.0,\n",
       " 0.0,\n",
       " 0.0,\n",
       " 0.0,\n",
       " 0.0,\n",
       " 0.0,\n",
       " 0.0,\n",
       " 0.0,\n",
       " 0.0,\n",
       " 0.0,\n",
       " 0.0,\n",
       " 23.0,\n",
       " 0.0,\n",
       " 0.0,\n",
       " 0.0,\n",
       " 0.0,\n",
       " 0.0,\n",
       " 0.0,\n",
       " 0.0,\n",
       " 0.0,\n",
       " 0.0,\n",
       " 0.0,\n",
       " 0.0,\n",
       " 0.0,\n",
       " 0.0,\n",
       " 0.0,\n",
       " 0.0,\n",
       " 0.0,\n",
       " 0.0,\n",
       " 0.0,\n",
       " 0.0,\n",
       " 0.0,\n",
       " 0.0,\n",
       " 0.0,\n",
       " 0.0,\n",
       " 0.0,\n",
       " 0.0,\n",
       " 0.0,\n",
       " 0.0,\n",
       " 0.0]"
      ]
     },
     "execution_count": 3,
     "metadata": {},
     "output_type": "execute_result"
    }
   ],
   "source": [
    "b"
   ]
  },
  {
   "cell_type": "code",
   "execution_count": null,
   "metadata": {},
   "outputs": [],
   "source": [
    "import math\n",
    "rlc=[]\n",
    "for i in range(len(b)):\n",
    "    amp=b[i]\n",
    "    pre=amp\n",
    "    if i==0:\n",
    "        run=i\n",
    "        size=int(math.log(abs(amp), 2)) + 1\n",
    "        print(\"run:%d, size=%d, amp=%d\"%(run,size,amp))\n",
    "        rlc.append((run,size,amp))\n",
    "    else:\n",
    "        \n",
    "            "
   ]
  },
  {
   "cell_type": "code",
   "execution_count": null,
   "metadata": {},
   "outputs": [],
   "source": [
    "y=huffmann_T3(1,135)"
   ]
  },
  {
   "cell_type": "code",
   "execution_count": null,
   "metadata": {},
   "outputs": [],
   "source": [
    "y"
   ]
  },
  {
   "cell_type": "code",
   "execution_count": null,
   "metadata": {},
   "outputs": [],
   "source": []
  },
  {
   "cell_type": "code",
   "execution_count": null,
   "metadata": {},
   "outputs": [],
   "source": [
    "!pip install numpy=1.12"
   ]
  },
  {
   "cell_type": "code",
   "execution_count": null,
   "metadata": {},
   "outputs": [],
   "source": [
    "import sys\n",
    "print(\"Native byteorder: \", sys.byteorder)"
   ]
  },
  {
   "cell_type": "code",
   "execution_count": null,
   "metadata": {},
   "outputs": [],
   "source": []
  },
  {
   "cell_type": "code",
   "execution_count": null,
   "metadata": {},
   "outputs": [],
   "source": [
    "frame"
   ]
  },
  {
   "cell_type": "code",
   "execution_count": null,
   "metadata": {},
   "outputs": [],
   "source": [
    "tt"
   ]
  },
  {
   "cell_type": "code",
   "execution_count": null,
   "metadata": {},
   "outputs": [],
   "source": [
    "bin(tt)"
   ]
  },
  {
   "cell_type": "code",
   "execution_count": null,
   "metadata": {},
   "outputs": [],
   "source": [
    "for run, amplitude in rlc:\n",
    "        if dc_true:\n",
    "            if (amplitude-p)>0:\n",
    "                dc_h=huffmann_T1((amplitude-p))\n",
    "            p=amplitude\n",
    "            if (dc_h!=None):\n",
    "                ba_block.append(dc_h)\n",
    "        if dc_true==False:\n",
    "            ac_h=huffmann_T3(run,amplitude)\n",
    "            ba_block.append(ac_h)\n",
    "        dc_true=False"
   ]
  },
  {
   "cell_type": "code",
   "execution_count": 4,
   "metadata": {},
   "outputs": [],
   "source": [
    "rlc=[(1, 102.0), (1, 0.0), (1, 135.0), (1, 113.0), (5, 0.0), (1, 113.0), (1, 88.0), (9, 0.0), (1, 68.0), (1, 33.0), (13, 0.0), (1, 23.0), (28, 0.0)]"
   ]
  },
  {
   "cell_type": "code",
   "execution_count": 5,
   "metadata": {},
   "outputs": [
    {
     "data": {
      "text/plain": [
       "13"
      ]
     },
     "execution_count": 5,
     "metadata": {},
     "output_type": "execute_result"
    }
   ],
   "source": [
    "len(rlc)"
   ]
  },
  {
   "cell_type": "code",
   "execution_count": 6,
   "metadata": {},
   "outputs": [
    {
     "name": "stdout",
     "output_type": "stream",
     "text": [
      "102.0\n",
      "0.0\n",
      "135.0\n",
      "113.0\n",
      "0.0\n",
      "113.0\n",
      "88.0\n",
      "0.0\n",
      "68.0\n",
      "33.0\n",
      "0.0\n",
      "23.0\n",
      "0.0\n"
     ]
    }
   ],
   "source": [
    "for i in range(len(rlc)):\n",
    "    print rlc[i][1]"
   ]
  },
  {
   "cell_type": "code",
   "execution_count": 46,
   "metadata": {},
   "outputs": [],
   "source": [
    "SOI= b'FFD8'\n",
    "JFIFAPP0 = b'FFE0'\n",
    "JFIFLENGHTOFSEGMENT = b'0010' #GGGGGG\n",
    "JFIFIDENTIFIER=b'4A46494600'\n",
    "JFIFVERSION=b'0102'\n",
    "JFIFUNITS= b'00'\n",
    "JFIFXDENSITY=b'0048'\n",
    "JFIFYDENSITY=b'0048'\n",
    "JFIFXTHUMBNAIL=b'00'\n",
    "JFIFYTHUMBNAIL=b'00'\n",
    "\n",
    "SOS = b'FFDA'\n",
    "EOI = b'FFD9'\n",
    "\n",
    "\n",
    "binary_string = binascii.unhexlify(SOI)\n",
    "binary_string +=binascii.unhexlify(JFIFAPP0)\n",
    "binary_string +=binascii.unhexlify(JFIFLENGHTOFSEGMENT)\n",
    "binary_string +=binascii.unhexlify(JFIFIDENTIFIER)\n",
    "binary_string +=binascii.unhexlify(JFIFVERSION)\n",
    "binary_string +=binascii.unhexlify(JFIFUNITS)\n",
    "binary_string +=binascii.unhexlify(JFIFXDENSITY)\n",
    "binary_string +=binascii.unhexlify(JFIFYDENSITY)\n",
    "binary_string +=binascii.unhexlify(JFIFXTHUMBNAIL)\n",
    "binary_string +=binascii.unhexlify(JFIFYTHUMBNAIL)\n",
    "binary_string += binascii.unhexlify(SOS)\n",
    "binary_string +=binascii.unhexlify(EOI)"
   ]
  },
  {
   "cell_type": "code",
   "execution_count": null,
   "metadata": {},
   "outputs": [],
   "source": []
  },
  {
   "cell_type": "code",
   "execution_count": 47,
   "metadata": {},
   "outputs": [],
   "source": [
    "with open(\"deneme.jpg\", \"wb\") as outfile:\n",
    "    outfile.write(binary_string)"
   ]
  },
  {
   "cell_type": "code",
   "execution_count": 48,
   "metadata": {},
   "outputs": [],
   "source": [
    "outfile.close()"
   ]
  },
  {
   "cell_type": "code",
   "execution_count": 49,
   "metadata": {},
   "outputs": [
    {
     "data": {
      "text/plain": [
       "'\\xff\\xd8\\xff\\xe0\\x00\\x10JFIF\\x00\\x01\\x02\\x00\\x00H\\x00H\\x00\\x00\\xff\\xda\\xff\\xd9'"
      ]
     },
     "execution_count": 49,
     "metadata": {},
     "output_type": "execute_result"
    }
   ],
   "source": [
    "binary_string"
   ]
  },
  {
   "cell_type": "code",
   "execution_count": null,
   "metadata": {},
   "outputs": [],
   "source": []
  }
 ],
 "metadata": {
  "kernelspec": {
   "display_name": "Python 2",
   "language": "python",
   "name": "python2"
  },
  "language_info": {
   "codemirror_mode": {
    "name": "ipython",
    "version": 2
   },
   "file_extension": ".py",
   "mimetype": "text/x-python",
   "name": "python",
   "nbconvert_exporter": "python",
   "pygments_lexer": "ipython2",
   "version": "2.7.6"
  }
 },
 "nbformat": 4,
 "nbformat_minor": 2
}
